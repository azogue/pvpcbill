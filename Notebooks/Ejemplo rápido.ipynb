{
 "cells": [
  {
   "cell_type": "markdown",
   "metadata": {},
   "source": [
    "## Simulación de factura\n",
    "\n",
    "**Método rápido:**\n",
    "\n",
    "* Path al CSV de consumos horarios descargado\n",
    "* El peaje contratado (GEN / NOC / VHC, para 2.0A / 2.0DHA / 2.0DHS)\n",
    "* La potencia contratada en kW\n",
    "* La zona de impuestos (IVA / IGIC / IPSI)\n"
   ]
  },
  {
   "cell_type": "code",
   "execution_count": 1,
   "metadata": {},
   "outputs": [
    {
     "name": "stderr",
     "output_type": "stream",
     "text": [
      "Collecting detailed PVPC data for all tariffs\n",
      "Download of 720 prices from 2020-02-17 23:00:00+00:00 to 2020-03-18 22:00:00+00:00 in 0.17 sec\n"
     ]
    },
    {
     "name": "stdout",
     "output_type": "stream",
     "text": [
      "consumo_facturado18_02_2020-18_03_2020-R.csv\n"
     ]
    },
    {
     "data": {
      "text/plain": [
       "FACTURA ELÉCTRICA:\n",
       "--------------------------------------------------------------------------------\n",
       "* CUPS             \t        ES0012345678901234SN\n",
       "* Fecha inicio             \t17/02/2020\n",
       "* Fecha final              \t18/03/2020\n",
       "* Peaje de acceso          \t2.0DHA (Nocturna)\n",
       "* Potencia contratada      \t4.60 kW\n",
       "* Consumo periodo          \t472.93 kWh\n",
       "* ¿Bono Social?            \tNo\n",
       "* Equipo de medida         \t0.80 €\n",
       "* Impuestos                \tPenínsula y Baleares (IVA)\n",
       "* Días facturables         \t30\n",
       "--------------------------------------------------------------------------------\n",
       "\n",
       "- CÁLCULO DEL TÉRMINO FIJO POR POTENCIA CONTRATADA:\n",
       "  Peaje acceso potencia:\n",
       "   4.60 kW x 0.103944 €/kW/día x 30 días (366/2020) = 14.34 €\n",
       "  Comercialización:\n",
       "   4.60 kW x 0.008505 €/kW/día x 30 días (366/2020) = 1.17 €\n",
       "  ==> Término fijo                                                     15.51 €\n",
       "\n",
       "- CÁLCULO DEL TÉRMINO VARIABLE POR ENERGÍA CONSUMIDA (TARIFA 2.0DHA):\n",
       "    Periodo 1: 0.111867 €/kWh                             ---> 19.02€(P1)\n",
       "    - Peaje de acceso:     170 kWh * 0.062012 €/kWh = 10.54€\n",
       "    - Coste de la energía: 170 kWh * 0.049855 €/kWh = 8.48€\n",
       "    Periodo 2: 0.045617 €/kWh                             ---> 13.82€(P2)\n",
       "    - Peaje de acceso:     303 kWh * 0.002215 €/kWh = 0.67€\n",
       "    - Coste de la energía: 303 kWh * 0.043402 €/kWh = 13.15€\n",
       "  ==> Término de consumo                                               32.84 €\n",
       "\n",
       "- IMPUESTO ELÉCTRICO:\n",
       "    5.11269632% x (15.51€ + 32.84€ = 48.35€)                           2.47 €\n",
       "  ==> Subtotal                                                         50.82 €\n",
       "\n",
       "- EQUIPO DE MEDIDA:\n",
       "    30 días x 0.026667 /día                                           0.80 €\n",
       "  ==> Importe total                                                    51.62 €\n",
       "\n",
       "- IVA O EQUIVALENTE:\n",
       "    21% de 51.62€                                                      10.84 €\n",
       "\n",
       "################################################################################\n",
       "# TOTAL FACTURA                                                        62.46 €\n",
       "################################################################################\n",
       "Consumo medio diario en el periodo facturado: 2.08 €/día"
      ]
     },
     "execution_count": 1,
     "metadata": {},
     "output_type": "execute_result"
    }
   ],
   "source": [
    "from pathlib import Path\n",
    "from pvpcbill import create_bill\n",
    "\n",
    "# Path al CSV de consumos horarios\n",
    "p_ejemplos = Path(\"/Volumes/WORK/PYTHON/pvpcbill/tests/ejemplos_consumo\")\n",
    "p_consumo = p_ejemplos / \"consumo_facturado18_02_2020-18_03_2020-R.csv\"\n",
    "\n",
    "assert p_consumo.exists(), \"Fix the path to the CSV!!\"\n",
    "print(p_consumo.name)\n",
    "\n",
    "# Creación directa de factura\n",
    "factura = await create_bill(\n",
    "    path_csv_consumo=p_consumo,\n",
    "    potencia_contratada=4.6,\n",
    "    tipo_peaje=\"NOC\",\n",
    "    zona_impuestos=\"IVA\",\n",
    ")\n",
    "\n",
    "# La representación del objeto como texto simula el desglose de la factura eléctrica\n",
    "factura"
   ]
  },
  {
   "cell_type": "code",
   "execution_count": 2,
   "metadata": {},
   "outputs": [
    {
     "name": "stdout",
     "output_type": "stream",
     "text": [
      "El coste de la factura se reparte en:\n",
      "  * un 52.6 % por energía consumida,\n",
      "  * un 24.8 % por potencia contratada,\n",
      "  * un 22.6 % por impuestos aplicados\n",
      "\n",
      "\n",
      "{\n",
      "  \"config\": {\n",
      "    \"tipo_peaje\": \"NOC\",\n",
      "    \"potencia_contratada\": 4.6,\n",
      "    \"con_bono_social\": false,\n",
      "    \"zona_impuestos\": \"IVA\",\n",
      "    \"alquiler_anual\": 9.72,\n",
      "    \"impuesto_electrico\": 0.0511269632,\n",
      "    \"cups\": \"ES0012345678901234SN\"\n",
      "  },\n",
      "  \"num_dias_factura\": 30,\n",
      "  \"start\": \"2020-02-17 00:00:00\",\n",
      "  \"end\": \"2020-03-18 00:00:00\",\n",
      "  \"periodos_fact\": [\n",
      "    {\n",
      "      \"billed_days\": 30,\n",
      "      \"year\": 2020,\n",
      "      \"termino_fijo_peaje_acceso\": 14.34,\n",
      "      \"termino_fijo_comercializacion\": 1.17,\n",
      "      \"termino_fijo_total\": 15.51,\n",
      "      \"energy_periods\": [\n",
      "        {\n",
      "          \"name\": \"P1\",\n",
      "          \"coste_peaje_acceso_tea\": 10.544458468,\n",
      "          \"coste_energia_tcu\": 8.477372039999999,\n",
      "          \"energia_total\": 170.03900000000002\n",
      "        },\n",
      "        {\n",
      "          \"name\": \"P2\",\n",
      "          \"coste_peaje_acceso_tea\": 0.67090578,\n",
      "          \"coste_energia_tcu\": 13.146024950000003,\n",
      "          \"energia_total\": 302.892\n",
      "        }\n",
      "      ]\n",
      "    }\n",
      "  ],\n",
      "  \"descuento_bono_social\": 0.0,\n",
      "  \"termino_impuesto_electrico\": 2.47,\n",
      "  \"termino_equipo_medida\": 0.8,\n",
      "  \"termino_iva_gen\": 10.6722,\n",
      "  \"termino_iva_medida\": 0.168,\n",
      "  \"termino_iva_total\": 10.84,\n",
      "  \"total\": 62.46\n",
      "}\n"
     ]
    }
   ],
   "source": [
    "# Reparto de costes en la factura\n",
    "p_imp = (\n",
    "    + factura.data.termino_impuesto_electrico\n",
    "    + factura.data.termino_equipo_medida\n",
    "    + factura.data.termino_iva_total\n",
    ") / factura.data.total\n",
    "p_ener = factura.data.termino_variable_total / factura.data.total\n",
    "p_pot = factura.data.termino_fijo_total / factura.data.total\n",
    "assert abs(p_pot + p_ener + p_imp - 1) < 0.001\n",
    "\n",
    "print(\n",
    "    f\"El coste de la factura se reparte en:\\n  \"\n",
    "    f\"* un {100*p_ener:.1f} % por energía consumida,\\n  \"\n",
    "    f\"* un {100*p_pot:.1f} % por potencia contratada,\\n  \"\n",
    "    f\"* un {100*p_imp:.1f} % por impuestos aplicados\\n\\n\"\n",
    ")\n",
    "\n",
    "print(factura.data.to_json())"
   ]
  },
  {
   "cell_type": "code",
   "execution_count": null,
   "metadata": {},
   "outputs": [],
   "source": []
  }
 ],
 "metadata": {
  "kernelspec": {
   "display_name": "Python 3",
   "language": "python",
   "name": "python3"
  },
  "language_info": {
   "codemirror_mode": {
    "name": "ipython",
    "version": 3
   },
   "file_extension": ".py",
   "mimetype": "text/x-python",
   "name": "python",
   "nbconvert_exporter": "python",
   "pygments_lexer": "ipython3",
   "version": "3.7.7"
  }
 },
 "nbformat": 4,
 "nbformat_minor": 4
}
